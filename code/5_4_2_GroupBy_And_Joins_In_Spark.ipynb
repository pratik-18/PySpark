{
 "cells": [
  {
   "cell_type": "code",
   "execution_count": 1,
   "id": "811e2c78",
   "metadata": {},
   "outputs": [],
   "source": [
    "import pyspark\n",
    "from pyspark.sql import SparkSession\n",
    "from pyspark.sql import functions as F"
   ]
  },
  {
   "cell_type": "code",
   "execution_count": 2,
   "id": "b462a8dd",
   "metadata": {},
   "outputs": [
    {
     "name": "stderr",
     "output_type": "stream",
     "text": [
      "WARNING: An illegal reflective access operation has occurred\n",
      "WARNING: Illegal reflective access by org.apache.spark.unsafe.Platform (file:/home/spark/spark-3.2.3-bin-hadoop3.2/jars/spark-unsafe_2.12-3.2.3.jar) to constructor java.nio.DirectByteBuffer(long,int)\n",
      "WARNING: Please consider reporting this to the maintainers of org.apache.spark.unsafe.Platform\n",
      "WARNING: Use --illegal-access=warn to enable warnings of further illegal reflective access operations\n",
      "WARNING: All illegal access operations will be denied in a future release\n",
      "Using Spark's default log4j profile: org/apache/spark/log4j-defaults.properties\n",
      "Setting default log level to \"WARN\".\n",
      "To adjust logging level use sc.setLogLevel(newLevel). For SparkR, use setLogLevel(newLevel).\n",
      "23/03/04 18:44:42 WARN NativeCodeLoader: Unable to load native-hadoop library for your platform... using builtin-java classes where applicable\n"
     ]
    }
   ],
   "source": [
    "spark = SparkSession.builder \\\n",
    "    .master(\"local[*]\") \\\n",
    "    .appName('test') \\\n",
    "    .getOrCreate()"
   ]
  },
  {
   "cell_type": "code",
   "execution_count": 3,
   "id": "3b0c52e2",
   "metadata": {},
   "outputs": [
    {
     "name": "stderr",
     "output_type": "stream",
     "text": [
      "                                                                                \r"
     ]
    }
   ],
   "source": [
    "df_green = spark.read.parquet('data/pq/green/*/*')"
   ]
  },
  {
   "cell_type": "code",
   "execution_count": 4,
   "id": "bda25cce",
   "metadata": {},
   "outputs": [],
   "source": [
    "df_green.createOrReplaceTempView('green')"
   ]
  },
  {
   "cell_type": "code",
   "execution_count": 9,
   "id": "4d86a442",
   "metadata": {},
   "outputs": [],
   "source": [
    "df_green_revenue = spark.sql(\"\"\"\n",
    "SELECT \n",
    "    date_trunc('hour', lpep_pickup_datetime) AS hour, \n",
    "    PULocationID AS zone,\n",
    "    SUM(total_amount) AS amount,\n",
    "    COUNT(1) AS number_of_records\n",
    "FROM\n",
    "    green\n",
    "WHERE\n",
    "    lpep_pickup_datetime >= '2020-01-01 00:00:00'\n",
    "GROUP BY\n",
    "    1, 2\n",
    "\"\"\")"
   ]
  },
  {
   "cell_type": "code",
   "execution_count": 10,
   "id": "8455ab6c",
   "metadata": {},
   "outputs": [
    {
     "name": "stderr",
     "output_type": "stream",
     "text": [
      "[Stage 7:=================================================>         (5 + 1) / 6]\r"
     ]
    },
    {
     "name": "stdout",
     "output_type": "stream",
     "text": [
      "+-------------------+----+------------------+-----------------+\n",
      "|               hour|zone|            amount|number_of_records|\n",
      "+-------------------+----+------------------+-----------------+\n",
      "|2020-01-01 00:00:00|   7| 769.7299999999997|               45|\n",
      "|2020-01-01 00:00:00|  17|            195.03|                9|\n",
      "|2020-01-01 00:00:00|  18|               7.8|                1|\n",
      "|2020-01-01 00:00:00|  22|              15.8|                1|\n",
      "|2020-01-01 00:00:00|  24|              87.6|                3|\n",
      "|2020-01-01 00:00:00|  25|             531.0|               26|\n",
      "|2020-01-01 00:00:00|  29|              61.3|                1|\n",
      "|2020-01-01 00:00:00|  32| 68.94999999999999|                2|\n",
      "|2020-01-01 00:00:00|  33|317.27000000000004|               11|\n",
      "|2020-01-01 00:00:00|  35|129.95999999999998|                5|\n",
      "|2020-01-01 00:00:00|  36|295.34000000000003|               11|\n",
      "|2020-01-01 00:00:00|  37|175.67000000000002|                6|\n",
      "|2020-01-01 00:00:00|  38| 98.78999999999999|                2|\n",
      "|2020-01-01 00:00:00|  40|168.98000000000002|                8|\n",
      "|2020-01-01 00:00:00|  41|1363.9599999999987|               84|\n",
      "|2020-01-01 00:00:00|  42| 799.7599999999994|               52|\n",
      "|2020-01-01 00:00:00|  43|            107.52|                6|\n",
      "|2020-01-01 00:00:00|  47|              13.3|                1|\n",
      "|2020-01-01 00:00:00|  49|266.76000000000005|               14|\n",
      "|2020-01-01 00:00:00|  51|              17.8|                2|\n",
      "+-------------------+----+------------------+-----------------+\n",
      "only showing top 20 rows\n",
      "\n"
     ]
    },
    {
     "name": "stderr",
     "output_type": "stream",
     "text": [
      "\r",
      "                                                                                \r"
     ]
    }
   ],
   "source": [
    "df_green_revenue.show()"
   ]
  },
  {
   "cell_type": "code",
   "execution_count": 22,
   "id": "307afae9",
   "metadata": {},
   "outputs": [
    {
     "name": "stderr",
     "output_type": "stream",
     "text": [
      "                                                                                \r"
     ]
    }
   ],
   "source": [
    "df_green_revenue.repartition(20).write.parquet('data/report/revenue/green', mode='overwrite')"
   ]
  },
  {
   "cell_type": "code",
   "execution_count": 14,
   "id": "3c94da9c",
   "metadata": {},
   "outputs": [],
   "source": [
    "df_yellow = spark.read.parquet('data/pq/yellow/*/*')"
   ]
  },
  {
   "cell_type": "code",
   "execution_count": 16,
   "id": "0517d4ab",
   "metadata": {},
   "outputs": [],
   "source": [
    "df_yellow.createOrReplaceTempView('yellow')"
   ]
  },
  {
   "cell_type": "code",
   "execution_count": 19,
   "id": "1fa9febe",
   "metadata": {},
   "outputs": [],
   "source": [
    "df_yellow_revenue = spark.sql(\"\"\"\n",
    "SELECT \n",
    "    date_trunc('hour', tpep_pickup_datetime) AS hour, \n",
    "    PULocationID AS zone,\n",
    "    SUM(total_amount) AS amount,\n",
    "    COUNT(1) AS number_of_records\n",
    "FROM\n",
    "    yellow\n",
    "WHERE\n",
    "    tpep_pickup_datetime >= '2020-01-01 00:00:00'\n",
    "GROUP BY\n",
    "    1, 2\n",
    "\"\"\")"
   ]
  },
  {
   "cell_type": "code",
   "execution_count": 20,
   "id": "a515ec40",
   "metadata": {},
   "outputs": [
    {
     "name": "stderr",
     "output_type": "stream",
     "text": [
      "[Stage 27:==============================================>         (10 + 2) / 12]\r"
     ]
    },
    {
     "name": "stdout",
     "output_type": "stream",
     "text": [
      "+-------------------+----+------------------+-----------------+\n",
      "|               hour|zone|            amount|number_of_records|\n",
      "+-------------------+----+------------------+-----------------+\n",
      "|2020-01-03 19:00:00| 142| 6023.090000000007|              403|\n",
      "|2020-01-26 14:00:00| 239| 6541.650000000012|              437|\n",
      "|2020-01-09 01:00:00| 100|            653.56|               37|\n",
      "|2020-01-31 18:00:00| 237|12689.400000000034|              810|\n",
      "|2020-01-04 03:00:00| 246| 2092.539999999999|              121|\n",
      "|2020-01-14 09:00:00| 239| 4882.360000000001|              298|\n",
      "|2020-01-27 16:00:00| 162| 7989.980000000011|              452|\n",
      "|2020-01-17 20:00:00| 170|6884.1900000000105|              407|\n",
      "|2020-01-23 15:00:00| 142| 5378.830000000004|              341|\n",
      "|2020-01-27 06:00:00|  24|            536.49|               23|\n",
      "|2020-01-01 04:00:00| 170| 2306.199999999999|              135|\n",
      "|2020-01-05 12:00:00|  68|3495.9599999999973|              235|\n",
      "|2020-01-13 17:00:00| 107|4066.6799999999967|              241|\n",
      "|2020-01-21 19:00:00| 162|13136.410000000036|              784|\n",
      "|2020-01-31 09:00:00| 143|3632.0899999999974|              221|\n",
      "|2020-01-23 03:00:00|  79|1392.7399999999998|               45|\n",
      "|2020-01-03 13:00:00| 163| 5333.470000000002|              327|\n",
      "|2020-01-02 10:00:00| 161| 5319.220000000001|              309|\n",
      "|2020-01-13 16:00:00|  45|            800.53|               34|\n",
      "|2020-01-30 07:00:00|  75|2127.8499999999985|              135|\n",
      "+-------------------+----+------------------+-----------------+\n",
      "only showing top 20 rows\n",
      "\n"
     ]
    },
    {
     "name": "stderr",
     "output_type": "stream",
     "text": [
      "\r",
      "                                                                                \r"
     ]
    }
   ],
   "source": [
    "df_yellow_revenue.show()"
   ]
  },
  {
   "cell_type": "code",
   "execution_count": 23,
   "id": "150f4732",
   "metadata": {},
   "outputs": [
    {
     "name": "stderr",
     "output_type": "stream",
     "text": [
      "                                                                                \r"
     ]
    }
   ],
   "source": [
    "df_yellow_revenue.repartition(20).write.parquet('data/report/revenue/yellow', mode='overwrite')"
   ]
  },
  {
   "cell_type": "code",
   "execution_count": 38,
   "id": "7f4c6305",
   "metadata": {},
   "outputs": [],
   "source": [
    "# Instead of doing chain of computation do first part, save the result & in next step read the results of the first part\n",
    "# This process is known as materialising\n",
    "\n",
    "df_green_revenue = spark.read.parquet('data/report/revenue/green/')\n",
    "df_yellow_revenue = spark.read.parquet('data/report/revenue/yellow/')"
   ]
  },
  {
   "cell_type": "code",
   "execution_count": 66,
   "id": "8254d5c5",
   "metadata": {},
   "outputs": [
    {
     "data": {
      "text/plain": [
       "DataFrame[hour: timestamp, zone: int, amount: double, number_of_records: bigint]"
      ]
     },
     "execution_count": 66,
     "metadata": {},
     "output_type": "execute_result"
    }
   ],
   "source": [
    "df_green_revenue"
   ]
  },
  {
   "cell_type": "code",
   "execution_count": 67,
   "id": "fa20dff9",
   "metadata": {},
   "outputs": [
    {
     "data": {
      "text/plain": [
       "DataFrame[hour: timestamp, zone: int, amount: double, number_of_records: bigint]"
      ]
     },
     "execution_count": 67,
     "metadata": {},
     "output_type": "execute_result"
    }
   ],
   "source": [
    "df_yellow_revenue"
   ]
  },
  {
   "cell_type": "code",
   "execution_count": 39,
   "id": "663393e6",
   "metadata": {},
   "outputs": [],
   "source": [
    "df_green_revenue_tmp = df_green_revenue \\\n",
    "                        .withColumnRenamed('amount', 'green_amount') \\\n",
    "                        .withColumnRenamed('number_of_records', 'green_number_of_records')\n",
    "\n",
    "df_yellow_revenue_tmp = df_yellow_revenue \\\n",
    "                        .withColumnRenamed('amount', 'yellow_amount') \\\n",
    "                        .withColumnRenamed('number_of_records', 'yellow_number_of_records')"
   ]
  },
  {
   "cell_type": "code",
   "execution_count": 64,
   "id": "a4652007",
   "metadata": {},
   "outputs": [
    {
     "data": {
      "text/plain": [
       "DataFrame[hour: timestamp, zone: int, green_amount: double, green_number_of_records: bigint]"
      ]
     },
     "execution_count": 64,
     "metadata": {},
     "output_type": "execute_result"
    }
   ],
   "source": [
    "df_green_revenue_tmp"
   ]
  },
  {
   "cell_type": "code",
   "execution_count": 65,
   "id": "d4ffd8d4",
   "metadata": {},
   "outputs": [
    {
     "data": {
      "text/plain": [
       "DataFrame[hour: timestamp, zone: int, yellow_amount: double, yellow_number_of_records: bigint]"
      ]
     },
     "execution_count": 65,
     "metadata": {},
     "output_type": "execute_result"
    }
   ],
   "source": [
    "df_yellow_revenue_tmp"
   ]
  },
  {
   "cell_type": "code",
   "execution_count": 40,
   "id": "b3d5a805",
   "metadata": {},
   "outputs": [],
   "source": [
    "df_join = df_green_revenue_tmp.join(df_yellow_revenue_tmp, on=['hour', 'zone'], how='outer')"
   ]
  },
  {
   "cell_type": "code",
   "execution_count": 42,
   "id": "2ef67814",
   "metadata": {},
   "outputs": [
    {
     "name": "stderr",
     "output_type": "stream",
     "text": [
      "[Stage 74:=======================>                                  (2 + 3) / 5]\r"
     ]
    },
    {
     "name": "stdout",
     "output_type": "stream",
     "text": [
      "+-------------------+----+------------------+-----------------------+------------------+------------------------+\n",
      "|               hour|zone|      green_amount|green_number_of_records|     yellow_amount|yellow_number_of_records|\n",
      "+-------------------+----+------------------+-----------------------+------------------+------------------------+\n",
      "|2020-01-01 00:00:00|  22|              15.8|                      1|              null|                    null|\n",
      "|2020-01-01 00:00:00|  25|             531.0|                     26|            324.35|                      16|\n",
      "|2020-01-01 00:00:00|  55|129.29000000000002|                      4|              null|                    null|\n",
      "|2020-01-01 00:00:00|  56|             99.69|                      3|              18.1|                       2|\n",
      "|2020-01-01 00:00:00|  60|            160.04|                      6|57.620000000000005|                       2|\n",
      "|2020-01-01 00:00:00|  61|            526.71|                     17|            146.64|                       3|\n",
      "|2020-01-01 00:00:00|  65|            199.49|                     10|            409.35|                      19|\n",
      "|2020-01-01 00:00:00|  71|              23.8|                      1|              null|                    null|\n",
      "|2020-01-01 00:00:00|  78|             34.46|                      2|              null|                    null|\n",
      "|2020-01-01 00:00:00|  85|             64.76|                      4|            102.56|                       3|\n",
      "|2020-01-01 00:00:00|  88|              null|                   null| 823.8000000000002|                      36|\n",
      "|2020-01-01 00:00:00| 106|             10.56|                      1|              null|                    null|\n",
      "|2020-01-01 00:00:00| 112|312.26000000000005|                     18|119.47999999999999|                       8|\n",
      "|2020-01-01 00:00:00| 113|              null|                   null| 3984.319999999997|                     220|\n",
      "|2020-01-01 00:00:00| 145|             65.14|                      4|            365.87|                      18|\n",
      "|2020-01-01 00:00:00| 148|              null|                   null| 6790.150000000008|                     371|\n",
      "|2020-01-01 00:00:00| 151|              null|                   null|2536.9599999999978|                     148|\n",
      "|2020-01-01 00:00:00| 159|              13.8|                      1|              58.8|                       2|\n",
      "|2020-01-01 00:00:00| 161|              null|                   null| 9410.210000000021|                     488|\n",
      "|2020-01-01 00:00:00| 162|              null|                   null| 4622.289999999997|                     268|\n",
      "+-------------------+----+------------------+-----------------------+------------------+------------------------+\n",
      "only showing top 20 rows\n",
      "\n"
     ]
    },
    {
     "name": "stderr",
     "output_type": "stream",
     "text": [
      "\r",
      "                                                                                \r"
     ]
    }
   ],
   "source": [
    "df_join.show()"
   ]
  },
  {
   "cell_type": "code",
   "execution_count": 43,
   "id": "04d3e332",
   "metadata": {},
   "outputs": [
    {
     "name": "stderr",
     "output_type": "stream",
     "text": [
      "                                                                                \r"
     ]
    }
   ],
   "source": [
    "df_join.write.parquet('data/report/revenue/total', mode='overwrite')"
   ]
  },
  {
   "cell_type": "code",
   "execution_count": 44,
   "id": "ccbcd060",
   "metadata": {},
   "outputs": [],
   "source": [
    "df_join = spark.read.parquet('data/report/revenue/total')"
   ]
  },
  {
   "cell_type": "code",
   "execution_count": 46,
   "id": "b5e95a92",
   "metadata": {},
   "outputs": [
    {
     "name": "stdout",
     "output_type": "stream",
     "text": [
      "+-------------------+----+------------------+-----------------------+------------------+------------------------+\n",
      "|               hour|zone|      green_amount|green_number_of_records|     yellow_amount|yellow_number_of_records|\n",
      "+-------------------+----+------------------+-----------------------+------------------+------------------------+\n",
      "|2020-01-01 00:00:00|   4|              null|                   null|1004.3000000000002|                      57|\n",
      "|2020-01-01 00:00:00|  15|              null|                   null|             34.09|                       1|\n",
      "|2020-01-01 00:00:00|  35|129.95999999999998|                      5|              null|                    null|\n",
      "|2020-01-01 00:00:00|  43|            107.52|                      6| 6539.510000000009|                     390|\n",
      "|2020-01-01 00:00:00|  45|              null|                   null| 732.4800000000002|                      42|\n",
      "|2020-01-01 00:00:00|  47|              13.3|                      1|               8.3|                       1|\n",
      "|2020-01-01 00:00:00|  50|              null|                   null| 4177.479999999998|                     183|\n",
      "|2020-01-01 00:00:00|  62|             15.95|                      1|             61.43|                       1|\n",
      "|2020-01-01 00:00:00|  63|              51.9|                      2|              70.8|                       1|\n",
      "|2020-01-01 00:00:00|  70|54.900000000000006|                      3|               9.3|                       1|\n",
      "|2020-01-01 00:00:00|  74| 317.0900000000001|                     24| 586.2100000000003|                      47|\n",
      "|2020-01-01 00:00:00|  79|              null|                   null| 12573.81000000003|                     721|\n",
      "|2020-01-01 00:00:00|  82| 305.1200000000001|                     28|              29.8|                       1|\n",
      "|2020-01-01 00:00:00|  83|              94.1|                      7|               9.8|                       1|\n",
      "|2020-01-01 00:00:00|  92|             80.72|                      3|              75.3|                       1|\n",
      "|2020-01-01 00:00:00| 116| 328.7600000000001|                     18| 561.5100000000001|                      34|\n",
      "|2020-01-01 00:00:00| 127|              null|                   null|43.900000000000006|                       3|\n",
      "|2020-01-01 00:00:00| 132|              null|                   null| 6786.390000000004|                     139|\n",
      "|2020-01-01 00:00:00| 134|             69.05|                      6|              null|                    null|\n",
      "|2020-01-01 00:00:00| 136|            111.68|                      2|             168.0|                       4|\n",
      "+-------------------+----+------------------+-----------------------+------------------+------------------------+\n",
      "only showing top 20 rows\n",
      "\n"
     ]
    }
   ],
   "source": [
    "df_join.show()"
   ]
  },
  {
   "cell_type": "code",
   "execution_count": 55,
   "id": "119e98ad",
   "metadata": {},
   "outputs": [
    {
     "name": "stdout",
     "output_type": "stream",
     "text": [
      "_SUCCESS  part-00000-e993c72a-53da-4cd5-9cd9-eff7b831c60d-c000.snappy.parquet\r\n"
     ]
    }
   ],
   "source": [
    "!ls zones"
   ]
  },
  {
   "cell_type": "code",
   "execution_count": 56,
   "id": "9d0cd220",
   "metadata": {},
   "outputs": [],
   "source": [
    "df_zones = spark.read.parquet('zones/')"
   ]
  },
  {
   "cell_type": "code",
   "execution_count": 57,
   "id": "10a9f1e6",
   "metadata": {},
   "outputs": [
    {
     "name": "stdout",
     "output_type": "stream",
     "text": [
      "+----------+-------------+--------------------+------------+\n",
      "|LocationID|      Borough|                Zone|service_zone|\n",
      "+----------+-------------+--------------------+------------+\n",
      "|         1|          EWR|      Newark Airport|         EWR|\n",
      "|         2|       Queens|         Jamaica Bay|   Boro Zone|\n",
      "|         3|        Bronx|Allerton/Pelham G...|   Boro Zone|\n",
      "|         4|    Manhattan|       Alphabet City| Yellow Zone|\n",
      "|         5|Staten Island|       Arden Heights|   Boro Zone|\n",
      "|         6|Staten Island|Arrochar/Fort Wad...|   Boro Zone|\n",
      "|         7|       Queens|             Astoria|   Boro Zone|\n",
      "|         8|       Queens|        Astoria Park|   Boro Zone|\n",
      "|         9|       Queens|          Auburndale|   Boro Zone|\n",
      "|        10|       Queens|        Baisley Park|   Boro Zone|\n",
      "|        11|     Brooklyn|          Bath Beach|   Boro Zone|\n",
      "|        12|    Manhattan|        Battery Park| Yellow Zone|\n",
      "|        13|    Manhattan|   Battery Park City| Yellow Zone|\n",
      "|        14|     Brooklyn|           Bay Ridge|   Boro Zone|\n",
      "|        15|       Queens|Bay Terrace/Fort ...|   Boro Zone|\n",
      "|        16|       Queens|             Bayside|   Boro Zone|\n",
      "|        17|     Brooklyn|             Bedford|   Boro Zone|\n",
      "|        18|        Bronx|        Bedford Park|   Boro Zone|\n",
      "|        19|       Queens|           Bellerose|   Boro Zone|\n",
      "|        20|        Bronx|             Belmont|   Boro Zone|\n",
      "+----------+-------------+--------------------+------------+\n",
      "only showing top 20 rows\n",
      "\n"
     ]
    }
   ],
   "source": [
    "df_zones.show()"
   ]
  },
  {
   "cell_type": "code",
   "execution_count": 58,
   "id": "696a1a6c",
   "metadata": {},
   "outputs": [],
   "source": [
    "# Joining smaller table on bigger one\n",
    "df_result = df_join.join(df_zones, df_join.zone == df_zones.LocationID)"
   ]
  },
  {
   "cell_type": "code",
   "execution_count": 61,
   "id": "c08604b3",
   "metadata": {},
   "outputs": [
    {
     "name": "stdout",
     "output_type": "stream",
     "text": [
      "+-------------------+------------------+-----------------------+------------------+------------------------+---------+------------+\n",
      "|               hour|      green_amount|green_number_of_records|     yellow_amount|yellow_number_of_records|  Borough|service_zone|\n",
      "+-------------------+------------------+-----------------------+------------------+------------------------+---------+------------+\n",
      "|2020-01-01 00:00:00|              null|                   null|1004.3000000000002|                      57|Manhattan| Yellow Zone|\n",
      "|2020-01-01 00:00:00|              null|                   null|             34.09|                       1|   Queens|   Boro Zone|\n",
      "|2020-01-01 00:00:00|129.95999999999998|                      5|              null|                    null| Brooklyn|   Boro Zone|\n",
      "|2020-01-01 00:00:00|            107.52|                      6| 6539.510000000009|                     390|Manhattan| Yellow Zone|\n",
      "|2020-01-01 00:00:00|              null|                   null| 732.4800000000002|                      42|Manhattan| Yellow Zone|\n",
      "|2020-01-01 00:00:00|              13.3|                      1|               8.3|                       1|    Bronx|   Boro Zone|\n",
      "|2020-01-01 00:00:00|              null|                   null| 4177.479999999998|                     183|Manhattan| Yellow Zone|\n",
      "|2020-01-01 00:00:00|             15.95|                      1|             61.43|                       1| Brooklyn|   Boro Zone|\n",
      "|2020-01-01 00:00:00|              51.9|                      2|              70.8|                       1| Brooklyn|   Boro Zone|\n",
      "|2020-01-01 00:00:00|54.900000000000006|                      3|               9.3|                       1|   Queens|   Boro Zone|\n",
      "|2020-01-01 00:00:00| 317.0900000000001|                     24| 586.2100000000003|                      47|Manhattan|   Boro Zone|\n",
      "|2020-01-01 00:00:00|              null|                   null| 12573.81000000003|                     721|Manhattan| Yellow Zone|\n",
      "|2020-01-01 00:00:00| 305.1200000000001|                     28|              29.8|                       1|   Queens|   Boro Zone|\n",
      "|2020-01-01 00:00:00|              94.1|                      7|               9.8|                       1|   Queens|   Boro Zone|\n",
      "|2020-01-01 00:00:00|             80.72|                      3|              75.3|                       1|   Queens|   Boro Zone|\n",
      "|2020-01-01 00:00:00| 328.7600000000001|                     18| 561.5100000000001|                      34|Manhattan|   Boro Zone|\n",
      "|2020-01-01 00:00:00|              null|                   null|43.900000000000006|                       3|Manhattan|   Boro Zone|\n",
      "|2020-01-01 00:00:00|              null|                   null| 6786.390000000004|                     139|   Queens|    Airports|\n",
      "|2020-01-01 00:00:00|             69.05|                      6|              null|                    null|   Queens|   Boro Zone|\n",
      "|2020-01-01 00:00:00|            111.68|                      2|             168.0|                       4|    Bronx|   Boro Zone|\n",
      "+-------------------+------------------+-----------------------+------------------+------------------------+---------+------------+\n",
      "only showing top 20 rows\n",
      "\n"
     ]
    }
   ],
   "source": [
    "df_result.drop('LocationID', 'zone').show()"
   ]
  },
  {
   "cell_type": "code",
   "execution_count": 62,
   "id": "f00b46ac",
   "metadata": {},
   "outputs": [
    {
     "name": "stderr",
     "output_type": "stream",
     "text": [
      "                                                                                \r"
     ]
    }
   ],
   "source": [
    "df_result.drop('LocationID', 'zone').write.parquet('tmp/revenue-zones')"
   ]
  },
  {
   "cell_type": "code",
   "execution_count": null,
   "id": "baadaec2",
   "metadata": {},
   "outputs": [],
   "source": []
  }
 ],
 "metadata": {
  "kernelspec": {
   "display_name": "Python 3 (ipykernel)",
   "language": "python",
   "name": "python3"
  },
  "language_info": {
   "codemirror_mode": {
    "name": "ipython",
    "version": 3
   },
   "file_extension": ".py",
   "mimetype": "text/x-python",
   "name": "python",
   "nbconvert_exporter": "python",
   "pygments_lexer": "ipython3",
   "version": "3.10.6"
  }
 },
 "nbformat": 4,
 "nbformat_minor": 5
}
